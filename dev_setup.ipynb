{
 "cells": [
  {
   "cell_type": "code",
   "execution_count": 0,
   "metadata": {
    "application/vnd.databricks.v1+cell": {
     "cellMetadata": {
      "byteLimit": 2048000,
      "rowLimit": 10000
     },
     "inputWidgets": {},
     "nuid": "78a99e6e-b3ff-48cf-b4af-d35ea1f59c5a",
     "showTitle": false,
     "title": ""
    }
   },
   "outputs": [],
   "source": [
    "%pip install requests_oauthlib"
   ]
  },
  {
   "cell_type": "code",
   "execution_count": 0,
   "metadata": {
    "application/vnd.databricks.v1+cell": {
     "cellMetadata": {
      "byteLimit": 2048000,
      "rowLimit": 10000
     },
     "inputWidgets": {},
     "nuid": "c603f73f-f4c0-41cd-828e-26079f844082",
     "showTitle": false,
     "title": ""
    }
   },
   "outputs": [],
   "source": [
    "import requests\n",
    "from oauthlib.oauth2 import BackendApplicationClient\n",
    "from requests.auth import HTTPBasicAuth\n",
    "from requests_oauthlib import OAuth2Session\n",
    "import json\n",
    "from pyspark.sql import functions as f"
   ]
  },
  {
   "cell_type": "code",
   "execution_count": 0,
   "metadata": {
    "application/vnd.databricks.v1+cell": {
     "cellMetadata": {
      "byteLimit": 2048000,
      "rowLimit": 10000
     },
     "inputWidgets": {},
     "nuid": "d573ebd9-9f98-44be-b135-c92dfb5538ec",
     "showTitle": false,
     "title": ""
    }
   },
   "outputs": [],
   "source": [
    "def generate_headers(client_id,client_secret,token_endpoint):\n",
    "    # Create a BackendApplicationClient object\n",
    "    client = BackendApplicationClient(client_id=client_id)\n",
    "\n",
    "    # Create an OAuth2Session object\n",
    "    oauth = OAuth2Session(client=client)\n",
    "\n",
    "    # Get the access token\n",
    "    token = oauth.fetch_token(\n",
    "        token_url= token_endpoint,\n",
    "        auth=HTTPBasicAuth(client_id, client_secret),\n",
    "        scope= \"e451.api.access\"\n",
    "    ) \n",
    "    # Create headers\n",
    "    headers = {\n",
    "        'Authorization': 'Bearer ' + token['access_token']\n",
    "    }\n",
    "    return headers"
   ]
  },
  {
   "cell_type": "code",
   "execution_count": 0,
   "metadata": {
    "application/vnd.databricks.v1+cell": {
     "cellMetadata": {
      "byteLimit": 2048000,
      "rowLimit": 10000
     },
     "inputWidgets": {},
     "nuid": "5292fe1a-442f-4371-bb60-b069cfdcc321",
     "showTitle": false,
     "title": ""
    }
   },
   "outputs": [],
   "source": [
    "def declare_dev_credentials():\n",
    "  client_id = '0oaco04jd1oGa4rNW1d7'\n",
    "  client_secret = 'e6tOus3jPGoP2S96zbX9IDHID1VsPK_YC8i77MUgzaNi6CILXs_ux5ia8FYIDolO'\n",
    "  token_endpoint = 'https://login-dev.8451.com/oauth2/aus4a5n1x8HRjB7LS1d7/v1/token'\n",
    "  campaign_get_endpoint = 'https://map-campaign-service.aks-ur-' + 'dev' + '-internal.8451.cloud/v0/campaign?id='\n",
    "  campaign_patch_endpoint= 'https://map-campaign-service.aks-ur-' + 'dev' + '-internal.8451.cloud/v0/campaign/' \n",
    "  return campaign_get_endpoint,campaign_patch_endpoint,token_endpoint,client_id,client_secret"
   ]
  },
  {
   "cell_type": "code",
   "execution_count": 0,
   "metadata": {
    "application/vnd.databricks.v1+cell": {
     "cellMetadata": {
      "byteLimit": 2048000,
      "rowLimit": 10000
     },
     "inputWidgets": {},
     "nuid": "035502f6-1d94-40af-8570-e1041d386741",
     "showTitle": false,
     "title": ""
    }
   },
   "outputs": [],
   "source": [
    "def declare_prd_credentials():\n",
    "  client_id= '0oab79tqp4TYivqwr697'\n",
    "  client_secret = 'gd-cDiEKQ9FKigY8-mnsgNl139Cmwhoh2vqE2p1_5WcPTYVSPoTV0pKG13Qzhelb'\n",
    "  token_endpoint = 'https://login.8451.com/oauth2/aus2rfaog9lmi37qz697/v1/token'\n",
    "  campaign_get_endpoint = 'https://map-campaign-service.aks-ur-' + 'prd' + '-internal.8451.cloud/v0/campaign?id='\n",
    "  campaign_patch_endpoint= 'https://map-campaign-service.aks-ur-' + 'prd' + '-internal.8451.cloud/v0/campaign/'\n",
    "  return campaign_get_endpoint,campaign_patch_endpoint,token_endpoint,client_id,client_secret"
   ]
  },
  {
   "cell_type": "code",
   "execution_count": 0,
   "metadata": {
    "application/vnd.databricks.v1+cell": {
     "cellMetadata": {},
     "inputWidgets": {},
     "nuid": "c27f620d-2a08-4eb0-b621-00cbb827243c",
     "showTitle": false,
     "title": ""
    }
   },
   "outputs": [],
   "source": [
    "## reading csv file\n",
    "def read_campaign_patch_file(filename):\n",
    "  return spark.read.option('header','True').csv(f'/FileStore/Users/s197818@8451.com/testing/{filename}')"
   ]
  },
  {
   "cell_type": "code",
   "execution_count": 0,
   "metadata": {
    "application/vnd.databricks.v1+cell": {
     "cellMetadata": {
      "byteLimit": 2048000,
      "rowLimit": 10000
     },
     "inputWidgets": {},
     "nuid": "a391f7cc-f9e2-4198-ab25-ec8fbc2a8640",
     "showTitle": false,
     "title": ""
    }
   },
   "outputs": [],
   "source": [
    "def create_json_variables(df):\n",
    "  path_list = [row.path for row in df.select('path').collect()]\n",
    "  value_list = [row.value for row in df.select('value').collect()]\n",
    "  op_list = [row.op for row in df.select('op').collect()]\n",
    "  campaign_ids = [row.campaign_id for row in df.select('campaign_id').collect()]\n",
    "  return path_list, value_list, op_list, campaign_ids"
   ]
  },
  {
   "cell_type": "code",
   "execution_count": 0,
   "metadata": {
    "application/vnd.databricks.v1+cell": {
     "cellMetadata": {
      "byteLimit": 2048000,
      "rowLimit": 10000
     },
     "inputWidgets": {},
     "nuid": "bc321bd8-ee25-4525-b27a-13b05277dff3",
     "showTitle": false,
     "title": ""
    }
   },
   "outputs": [],
   "source": [
    "def create_payload(val,op,path):\n",
    "  ## catching the ValueError exception\n",
    "  try:\n",
    "    val = int(val)\n",
    "  except:\n",
    "    print(\"Value is NOT AN INTEGER!!!\")\n",
    "  payload = [{\n",
    "    'op': op, \n",
    "    'path': path,\n",
    "    'value': val\n",
    "    }]\n",
    "  return payload"
   ]
  }
 ],
 "metadata": {
  "application/vnd.databricks.v1+notebook": {
   "dashboards": [],
   "language": "python",
   "notebookMetadata": {
    "pythonIndentUnit": 2
   },
   "notebookName": "dev_setup",
   "widgets": {}
  }
 },
 "nbformat": 4,
 "nbformat_minor": 0
}
