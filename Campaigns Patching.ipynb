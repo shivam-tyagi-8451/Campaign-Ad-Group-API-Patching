{
 "cells": [
  {
   "cell_type": "code",
   "execution_count": 0,
   "metadata": {
    "application/vnd.databricks.v1+cell": {
     "cellMetadata": {
      "byteLimit": 2048000,
      "rowLimit": 10000
     },
     "inputWidgets": {},
     "nuid": "1b6c9970-d3dd-4496-86e2-9749e759a0d4",
     "showTitle": false,
     "title": ""
    }
   },
   "outputs": [],
   "source": [
    "dbutils.widgets.text('env','dev')\n",
    "dbutils.widgets.text('filename','')"
   ]
  },
  {
   "cell_type": "code",
   "execution_count": 0,
   "metadata": {
    "application/vnd.databricks.v1+cell": {
     "cellMetadata": {
      "byteLimit": 2048000,
      "rowLimit": 10000
     },
     "inputWidgets": {},
     "nuid": "c98eeb16-6c40-4158-872b-03ce6cb7307c",
     "showTitle": false,
     "title": ""
    }
   },
   "outputs": [],
   "source": [
    "%run \"/Users/s197818@8451.com/Test/dev_setup\""
   ]
  },
  {
   "cell_type": "code",
   "execution_count": 0,
   "metadata": {
    "application/vnd.databricks.v1+cell": {
     "cellMetadata": {
      "byteLimit": 2048000,
      "rowLimit": 10000
     },
     "inputWidgets": {},
     "nuid": "aa301083-f8f7-4ef7-978f-d34fe834d708",
     "showTitle": false,
     "title": ""
    }
   },
   "outputs": [],
   "source": [
    "all_responses = []\n",
    "filename = dbutils.widgets.get('filename')\n",
    "env = dbutils.widgets.get('env')\n",
    "if env == 'dev':\n",
    "  print('dev')\n",
    "  campaign_get_endpoint,campaign_patch_endpoint,token_endpoint,client_id,client_secret = declare_dev_credentials()\n",
    "  print('Done')\n",
    "elif env == 'prd':\n",
    "  print('prd')\n",
    "  campaign_get_endpoint,campaign_patch_endpoint,token_endpoint,client_id,client_secret = declare_prd_credentials()\n",
    "else:\n",
    "  print('Incorrect environment entered!!!')\n",
    "  exit()"
   ]
  },
  {
   "cell_type": "code",
   "execution_count": 0,
   "metadata": {
    "application/vnd.databricks.v1+cell": {
     "cellMetadata": {
      "byteLimit": 2048000,
      "rowLimit": 10000
     },
     "inputWidgets": {},
     "nuid": "46ca5229-a322-4333-8985-a441a5276114",
     "showTitle": false,
     "title": ""
    }
   },
   "outputs": [],
   "source": [
    "## Get campaign details DataFrame from filename\n",
    "campaigns_df = read_campaign_patch_file(filename)"
   ]
  },
  {
   "cell_type": "code",
   "execution_count": 0,
   "metadata": {
    "application/vnd.databricks.v1+cell": {
     "cellMetadata": {
      "byteLimit": 2048000,
      "rowLimit": 10000
     },
     "inputWidgets": {},
     "nuid": "6929392f-5e37-4458-8a03-f600578ea252",
     "showTitle": false,
     "title": ""
    }
   },
   "outputs": [],
   "source": [
    "## Values that are going to get patched\n",
    "campaigns_df.display()"
   ]
  },
  {
   "cell_type": "code",
   "execution_count": 0,
   "metadata": {
    "application/vnd.databricks.v1+cell": {
     "cellMetadata": {
      "byteLimit": 2048000,
      "rowLimit": 10000
     },
     "inputWidgets": {},
     "nuid": "3ad6f165-dcd8-4a59-8041-b0229a71bca2",
     "showTitle": false,
     "title": ""
    }
   },
   "outputs": [],
   "source": [
    "path_list, value_list, op_list, campaign_ids  = create_json_variables(campaigns_df)"
   ]
  },
  {
   "cell_type": "code",
   "execution_count": 0,
   "metadata": {
    "application/vnd.databricks.v1+cell": {
     "cellMetadata": {
      "byteLimit": 2048000,
      "rowLimit": 10000
     },
     "inputWidgets": {},
     "nuid": "de46b80b-51cb-439c-b23d-f9d4abd1ef6d",
     "showTitle": false,
     "title": ""
    }
   },
   "outputs": [],
   "source": [
    "## Generate headers for authenticate user\n",
    "headers = generate_headers(client_id,client_secret,token_endpoint)"
   ]
  },
  {
   "cell_type": "code",
   "execution_count": 0,
   "metadata": {
    "application/vnd.databricks.v1+cell": {
     "cellMetadata": {
      "byteLimit": 2048000,
      "rowLimit": 10000
     },
     "inputWidgets": {},
     "nuid": "8a967375-b912-4e0d-9c72-eb1c4bb9ad25",
     "showTitle": false,
     "title": ""
    }
   },
   "outputs": [],
   "source": [
    "def get_request(campaign_id):\n",
    "  response = requests.get(campaign_get_endpoint + campaign_id , headers=headers)\n",
    "  if response.status_code == 200:\n",
    "    print('Successful Request!')\n",
    "    return response\n",
    "  else:\n",
    "    print(f'Patching Failed with {response.status_code}')\n",
    "    return \"\""
   ]
  },
  {
   "cell_type": "code",
   "execution_count": 0,
   "metadata": {
    "application/vnd.databricks.v1+cell": {
     "cellMetadata": {
      "byteLimit": 2048000,
      "rowLimit": 10000
     },
     "inputWidgets": {},
     "nuid": "664f46a6-0fdf-4958-9305-8c7a9e89b1f1",
     "showTitle": false,
     "title": ""
    }
   },
   "outputs": [],
   "source": [
    "def patch_request(campaign_id,payload):\n",
    "  response = requests.patch(campaign_patch_endpoint + campaign_id, headers=headers,json=payload)\n",
    "  if response.status_code == 204:\n",
    "    print(f'Successfully Patched: {campaign_id} + {payload}')\n",
    "  else:\n",
    "    print(f'Patching Failed with {response.status_code} \\n {payload}')"
   ]
  },
  {
   "cell_type": "code",
   "execution_count": 0,
   "metadata": {
    "application/vnd.databricks.v1+cell": {
     "cellMetadata": {
      "byteLimit": 2048000,
      "rowLimit": 10000
     },
     "inputWidgets": {},
     "nuid": "bd253997-1ad1-41b9-9c78-1f7d11ba9633",
     "showTitle": false,
     "title": ""
    }
   },
   "outputs": [],
   "source": [
    "## driver loop, iterate over each row data of csv file\n",
    "for i in range(len(value_list)):\n",
    "  operation = 'add'\n",
    "  path = '/primaryAccount/contacts/-'\n",
    "  response = get_request(campaign_ids[i])\n",
    "  print(campaign_ids[i])\n",
    "  contact_list = response.json()['data'][0]['primaryAccount']['contacts']\n",
    "  for j in range(len(contact_list)):\n",
    "    if contact_list[j]['type'] == 'billing-contact':\n",
    "      operation = 'replace'\n",
    "      path = f'/primaryAccount/contacts/{j}'\n",
    "  if operation == 'add':\n",
    "    payload = create_payload_add(value_list[i],operation,path)\n",
    "    patch_request(campaign_ids[i],payload)\n",
    "  else:\n",
    "    payload = create_payload_replace(value_list[i],operation,path)\n",
    "    patch_request(campaign_ids[i],payload)"
   ]
  },
  {
   "cell_type": "code",
   "execution_count": 0,
   "metadata": {
    "application/vnd.databricks.v1+cell": {
     "cellMetadata": {
      "byteLimit": 2048000,
      "rowLimit": 10000
     },
     "inputWidgets": {},
     "nuid": "cad89c4d-9a24-4967-95a4-7bb7e3e34ea3",
     "showTitle": false,
     "title": ""
    }
   },
   "outputs": [],
   "source": [
    "response = get_request(campaign_ids[0])"
   ]
  },
  {
   "cell_type": "code",
   "execution_count": 0,
   "metadata": {
    "application/vnd.databricks.v1+cell": {
     "cellMetadata": {
      "byteLimit": 2048000,
      "rowLimit": 10000
     },
     "inputWidgets": {},
     "nuid": "5ab3e84d-d2e4-49f9-9511-385a83ec5e61",
     "showTitle": false,
     "title": ""
    }
   },
   "outputs": [],
   "source": [
    "response.json()['data'][0]['primaryAccount'].keys()"
   ]
  },
  {
   "cell_type": "code",
   "execution_count": 0,
   "metadata": {
    "application/vnd.databricks.v1+cell": {
     "cellMetadata": {
      "byteLimit": 2048000,
      "rowLimit": 10000
     },
     "inputWidgets": {},
     "nuid": "8b36efc8-457d-4e7f-b25f-3a384b4e8f35",
     "showTitle": false,
     "title": ""
    }
   },
   "outputs": [],
   "source": [
    "response.json()['data'][0]['internalContacts']"
   ]
  },
  {
   "cell_type": "code",
   "execution_count": 0,
   "metadata": {
    "application/vnd.databricks.v1+cell": {
     "cellMetadata": {},
     "inputWidgets": {},
     "nuid": "9c03d841-fba5-4ef0-b193-5c215a126b30",
     "showTitle": false,
     "title": ""
    }
   },
   "outputs": [],
   "source": []
  }
 ],
 "metadata": {
  "application/vnd.databricks.v1+notebook": {
   "dashboards": [],
   "language": "python",
   "notebookMetadata": {
    "pythonIndentUnit": 2
   },
   "notebookName": "Campaigns Patching",
   "widgets": {
    "env": {
     "currentValue": "dev",
     "nuid": "6757eb1e-f397-458c-97cf-e1d4c0fd8453",
     "widgetInfo": {
      "widgetType": "text",
      "defaultValue": "dev",
      "label": null,
      "name": "env",
      "options": {
       "widgetType": "text",
       "autoCreated": null,
       "validationRegex": null
      }
     }
    },
    "filename": {
     "currentValue": "test.csv",
     "nuid": "b76a731b-ced8-4876-a2c3-699b5166eb7f",
     "widgetInfo": {
      "widgetType": "text",
      "defaultValue": "",
      "label": null,
      "name": "filename",
      "options": {
       "widgetType": "text",
       "autoCreated": null,
       "validationRegex": null
      }
     }
    }
   }
  }
 },
 "nbformat": 4,
 "nbformat_minor": 0
}
